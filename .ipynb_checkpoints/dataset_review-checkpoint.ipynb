{
 "cells": [
  {
   "cell_type": "code",
   "execution_count": 1,
   "id": "427e7ae2",
   "metadata": {},
   "outputs": [],
   "source": [
    "# Importando as bibliotecas necessárias\n",
    "import pandas as pd\n",
    "import numpy as np"
   ]
  },
  {
   "cell_type": "code",
   "execution_count": 2,
   "id": "ff7cffd1",
   "metadata": {},
   "outputs": [],
   "source": [
    "pd.set_option('display.float_format', '{:.2f}'.format)"
   ]
  },
  {
   "cell_type": "code",
   "execution_count": 3,
   "id": "52fbc9b8",
   "metadata": {
    "scrolled": true
   },
   "outputs": [
    {
     "data": {
      "text/html": [
       "<div>\n",
       "<style scoped>\n",
       "    .dataframe tbody tr th:only-of-type {\n",
       "        vertical-align: middle;\n",
       "    }\n",
       "\n",
       "    .dataframe tbody tr th {\n",
       "        vertical-align: top;\n",
       "    }\n",
       "\n",
       "    .dataframe thead th {\n",
       "        text-align: right;\n",
       "    }\n",
       "</style>\n",
       "<table border=\"1\" class=\"dataframe\">\n",
       "  <thead>\n",
       "    <tr style=\"text-align: right;\">\n",
       "      <th></th>\n",
       "      <th>InvoiceNo</th>\n",
       "      <th>StockCode</th>\n",
       "      <th>Description</th>\n",
       "      <th>Quantity</th>\n",
       "      <th>InvoiceDate</th>\n",
       "      <th>UnitPrice</th>\n",
       "      <th>CustomerID</th>\n",
       "      <th>Country</th>\n",
       "    </tr>\n",
       "  </thead>\n",
       "  <tbody>\n",
       "    <tr>\n",
       "      <th>0</th>\n",
       "      <td>536365</td>\n",
       "      <td>85123A</td>\n",
       "      <td>WHITE HANGING HEART T-LIGHT HOLDER</td>\n",
       "      <td>6</td>\n",
       "      <td>01/12/2010 08:26</td>\n",
       "      <td>2.55</td>\n",
       "      <td>17850.00</td>\n",
       "      <td>United Kingdom</td>\n",
       "    </tr>\n",
       "    <tr>\n",
       "      <th>1</th>\n",
       "      <td>536365</td>\n",
       "      <td>71053</td>\n",
       "      <td>WHITE METAL LANTERN</td>\n",
       "      <td>6</td>\n",
       "      <td>01/12/2010 08:26</td>\n",
       "      <td>3.39</td>\n",
       "      <td>17850.00</td>\n",
       "      <td>United Kingdom</td>\n",
       "    </tr>\n",
       "    <tr>\n",
       "      <th>2</th>\n",
       "      <td>536365</td>\n",
       "      <td>84406B</td>\n",
       "      <td>CREAM CUPID HEARTS COAT HANGER</td>\n",
       "      <td>8</td>\n",
       "      <td>01/12/2010 08:26</td>\n",
       "      <td>2.75</td>\n",
       "      <td>17850.00</td>\n",
       "      <td>United Kingdom</td>\n",
       "    </tr>\n",
       "    <tr>\n",
       "      <th>3</th>\n",
       "      <td>536365</td>\n",
       "      <td>84029G</td>\n",
       "      <td>KNITTED UNION FLAG HOT WATER BOTTLE</td>\n",
       "      <td>6</td>\n",
       "      <td>01/12/2010 08:26</td>\n",
       "      <td>3.39</td>\n",
       "      <td>17850.00</td>\n",
       "      <td>United Kingdom</td>\n",
       "    </tr>\n",
       "    <tr>\n",
       "      <th>4</th>\n",
       "      <td>536365</td>\n",
       "      <td>84029E</td>\n",
       "      <td>RED WOOLLY HOTTIE WHITE HEART.</td>\n",
       "      <td>6</td>\n",
       "      <td>01/12/2010 08:26</td>\n",
       "      <td>3.39</td>\n",
       "      <td>17850.00</td>\n",
       "      <td>United Kingdom</td>\n",
       "    </tr>\n",
       "  </tbody>\n",
       "</table>\n",
       "</div>"
      ],
      "text/plain": [
       "  InvoiceNo StockCode                          Description  Quantity  \\\n",
       "0    536365    85123A   WHITE HANGING HEART T-LIGHT HOLDER         6   \n",
       "1    536365     71053                  WHITE METAL LANTERN         6   \n",
       "2    536365    84406B       CREAM CUPID HEARTS COAT HANGER         8   \n",
       "3    536365    84029G  KNITTED UNION FLAG HOT WATER BOTTLE         6   \n",
       "4    536365    84029E       RED WOOLLY HOTTIE WHITE HEART.         6   \n",
       "\n",
       "        InvoiceDate  UnitPrice  CustomerID         Country  \n",
       "0  01/12/2010 08:26       2.55    17850.00  United Kingdom  \n",
       "1  01/12/2010 08:26       3.39    17850.00  United Kingdom  \n",
       "2  01/12/2010 08:26       2.75    17850.00  United Kingdom  \n",
       "3  01/12/2010 08:26       3.39    17850.00  United Kingdom  \n",
       "4  01/12/2010 08:26       3.39    17850.00  United Kingdom  "
      ]
     },
     "execution_count": 3,
     "metadata": {},
     "output_type": "execute_result"
    }
   ],
   "source": [
    "# Carregando e lendo o dataset\n",
    "sales = pd.read_csv('C:/Users/mathe/Projetos Dados/EcommerceSalesAnalysis/App/Data/Online Retail.csv', delimiter=';', encoding='latin1', decimal=',')\n",
    "sales.head()"
   ]
  },
  {
   "cell_type": "code",
   "execution_count": 4,
   "id": "7ce6bfc7",
   "metadata": {},
   "outputs": [
    {
     "data": {
      "text/plain": [
       "(541909, 8)"
      ]
     },
     "execution_count": 4,
     "metadata": {},
     "output_type": "execute_result"
    }
   ],
   "source": [
    "sales.shape"
   ]
  },
  {
   "cell_type": "markdown",
   "id": "36393c77",
   "metadata": {},
   "source": [
    "Uma análise do Dataset mostrou que além de registrar as operações de venda e cancelamento dos produtos, esse dataset também registra operações manuais de ajustes, descontos ofertados, taxas, comissões e outras operações.\n",
    "\n",
    "Portanto, como a análise está focada apenas na VENDA e CANCELAMENTO dos PRODUTOS, os registros citados devem ser excluídos no pré-processamento.\n",
    "\n",
    "Essas operações são identificadas pela coluna *[StockCode]*, em que seus valores iniciam-se por uma letra."
   ]
  },
  {
   "cell_type": "code",
   "execution_count": 5,
   "id": "086d2d21",
   "metadata": {},
   "outputs": [
    {
     "name": "stdout",
     "output_type": "stream",
     "text": [
      "['POST' 'D' 'C2' 'DOT' 'M' 'BANK CHARGES' 'S' 'AMAZONFEE' 'DCGS0076'\n",
      " 'DCGS0003' 'gift_0001_40' 'DCGS0070' 'm' 'gift_0001_50' 'gift_0001_30'\n",
      " 'gift_0001_20' 'DCGS0055' 'DCGS0072' 'DCGS0074' 'DCGS0069' 'DCGS0057'\n",
      " 'DCGSSBOY' 'DCGSSGIRL' 'gift_0001_10' 'PADS' 'DCGS0004' 'DCGS0073'\n",
      " 'DCGS0071' 'DCGS0068' 'DCGS0067' 'DCGS0066P' 'B' 'CRUK']\n"
     ]
    }
   ],
   "source": [
    "# Filtrando as operações que não se referem a produtos\n",
    "def not_number(value):\n",
    "    return not value[0].isdigit()\n",
    "\n",
    "# Filtra todos os registros que não vendas/cancelamento de produtos\n",
    "not_product_lines = sales[sales['StockCode'].apply(not_number)]\n",
    "\n",
    "# Obter os valores únicos das linhas\n",
    "not_product = not_product_lines['StockCode'].unique()\n",
    "\n",
    "# Imprimir os valores únicos que não começam com números\n",
    "print(not_product)"
   ]
  },
  {
   "cell_type": "markdown",
   "id": "ed651992",
   "metadata": {},
   "source": []
  },
  {
   "cell_type": "code",
   "execution_count": 7,
   "id": "eb1acac3",
   "metadata": {},
   "outputs": [
    {
     "data": {
      "text/plain": [
       "InvoiceNo       object\n",
       "StockCode       object\n",
       "Description     object\n",
       "Quantity         int64\n",
       "InvoiceDate     object\n",
       "UnitPrice      float64\n",
       "CustomerID     float64\n",
       "Country         object\n",
       "dtype: object"
      ]
     },
     "execution_count": 7,
     "metadata": {},
     "output_type": "execute_result"
    }
   ],
   "source": [
    "# Conhecendo os tipos dos dados\n",
    "sales.dtypes"
   ]
  },
  {
   "cell_type": "code",
   "execution_count": 8,
   "id": "01168161",
   "metadata": {},
   "outputs": [],
   "source": [
    "# Adicionando coluna de Preço Final de venda/devolução para cada transação\n",
    "sales['FinalPrice'] = sales['Quantity'] * sales['UnitPrice']"
   ]
  },
  {
   "cell_type": "code",
   "execution_count": 9,
   "id": "2848def2",
   "metadata": {
    "scrolled": true
   },
   "outputs": [
    {
     "data": {
      "text/html": [
       "<div>\n",
       "<style scoped>\n",
       "    .dataframe tbody tr th:only-of-type {\n",
       "        vertical-align: middle;\n",
       "    }\n",
       "\n",
       "    .dataframe tbody tr th {\n",
       "        vertical-align: top;\n",
       "    }\n",
       "\n",
       "    .dataframe thead th {\n",
       "        text-align: right;\n",
       "    }\n",
       "</style>\n",
       "<table border=\"1\" class=\"dataframe\">\n",
       "  <thead>\n",
       "    <tr style=\"text-align: right;\">\n",
       "      <th></th>\n",
       "      <th>count</th>\n",
       "      <th>mean</th>\n",
       "      <th>std</th>\n",
       "      <th>min</th>\n",
       "      <th>25%</th>\n",
       "      <th>50%</th>\n",
       "      <th>75%</th>\n",
       "      <th>max</th>\n",
       "    </tr>\n",
       "  </thead>\n",
       "  <tbody>\n",
       "    <tr>\n",
       "      <th>Quantity</th>\n",
       "      <td>538914.00</td>\n",
       "      <td>9.59</td>\n",
       "      <td>218.63</td>\n",
       "      <td>-80995.00</td>\n",
       "      <td>1.00</td>\n",
       "      <td>3.00</td>\n",
       "      <td>10.00</td>\n",
       "      <td>80995.00</td>\n",
       "    </tr>\n",
       "    <tr>\n",
       "      <th>UnitPrice</th>\n",
       "      <td>538914.00</td>\n",
       "      <td>3.27</td>\n",
       "      <td>4.49</td>\n",
       "      <td>0.00</td>\n",
       "      <td>1.25</td>\n",
       "      <td>2.08</td>\n",
       "      <td>4.13</td>\n",
       "      <td>649.50</td>\n",
       "    </tr>\n",
       "    <tr>\n",
       "      <th>FinalPrice</th>\n",
       "      <td>538914.00</td>\n",
       "      <td>18.17</td>\n",
       "      <td>367.11</td>\n",
       "      <td>-168469.60</td>\n",
       "      <td>3.40</td>\n",
       "      <td>9.36</td>\n",
       "      <td>17.40</td>\n",
       "      <td>168469.60</td>\n",
       "    </tr>\n",
       "  </tbody>\n",
       "</table>\n",
       "</div>"
      ],
      "text/plain": [
       "               count  mean    std        min  25%  50%   75%       max\n",
       "Quantity   538914.00  9.59 218.63  -80995.00 1.00 3.00 10.00  80995.00\n",
       "UnitPrice  538914.00  3.27   4.49       0.00 1.25 2.08  4.13    649.50\n",
       "FinalPrice 538914.00 18.17 367.11 -168469.60 3.40 9.36 17.40 168469.60"
      ]
     },
     "execution_count": 9,
     "metadata": {},
     "output_type": "execute_result"
    }
   ],
   "source": [
    "# Resumo dos dados\n",
    "sales[['Quantity', 'UnitPrice', 'FinalPrice']].describe().T"
   ]
  },
  {
   "cell_type": "code",
   "execution_count": 10,
   "id": "35be1ce9",
   "metadata": {},
   "outputs": [
    {
     "data": {
      "text/plain": [
       "(536429, 9)"
      ]
     },
     "execution_count": 10,
     "metadata": {},
     "output_type": "execute_result"
    }
   ],
   "source": [
    "# Excluindo os registros com valor unitário igual a zero\n",
    "sales = sales[sales['UnitPrice'] > 0]\n",
    "sales.shape"
   ]
  },
  {
   "cell_type": "code",
   "execution_count": 11,
   "id": "f3fe3c3c",
   "metadata": {},
   "outputs": [
    {
     "data": {
      "text/html": [
       "<div>\n",
       "<style scoped>\n",
       "    .dataframe tbody tr th:only-of-type {\n",
       "        vertical-align: middle;\n",
       "    }\n",
       "\n",
       "    .dataframe tbody tr th {\n",
       "        vertical-align: top;\n",
       "    }\n",
       "\n",
       "    .dataframe thead th {\n",
       "        text-align: right;\n",
       "    }\n",
       "</style>\n",
       "<table border=\"1\" class=\"dataframe\">\n",
       "  <thead>\n",
       "    <tr style=\"text-align: right;\">\n",
       "      <th></th>\n",
       "      <th>InvoiceNo</th>\n",
       "      <th>StockCode</th>\n",
       "      <th>Description</th>\n",
       "      <th>Quantity</th>\n",
       "      <th>InvoiceDate</th>\n",
       "      <th>UnitPrice</th>\n",
       "      <th>CustomerID</th>\n",
       "      <th>Country</th>\n",
       "      <th>FinalPrice</th>\n",
       "    </tr>\n",
       "  </thead>\n",
       "  <tbody>\n",
       "    <tr>\n",
       "      <th>160509</th>\n",
       "      <td>550459</td>\n",
       "      <td>72800B</td>\n",
       "      <td>4 PURPLE FLOCK DINNER CANDLES</td>\n",
       "      <td>1</td>\n",
       "      <td>18/04/2011 13:17</td>\n",
       "      <td>2.55</td>\n",
       "      <td>18116.00</td>\n",
       "      <td>United Kingdom</td>\n",
       "      <td>2.55</td>\n",
       "    </tr>\n",
       "    <tr>\n",
       "      <th>160498</th>\n",
       "      <td>550459</td>\n",
       "      <td>72800B</td>\n",
       "      <td>4 PURPLE FLOCK DINNER CANDLES</td>\n",
       "      <td>1</td>\n",
       "      <td>18/04/2011 13:17</td>\n",
       "      <td>2.55</td>\n",
       "      <td>18116.00</td>\n",
       "      <td>United Kingdom</td>\n",
       "      <td>2.55</td>\n",
       "    </tr>\n",
       "    <tr>\n",
       "      <th>483414</th>\n",
       "      <td>577503</td>\n",
       "      <td>72800B</td>\n",
       "      <td>4 PURPLE FLOCK DINNER CANDLES</td>\n",
       "      <td>1</td>\n",
       "      <td>20/11/2011 12:34</td>\n",
       "      <td>2.55</td>\n",
       "      <td>18110.00</td>\n",
       "      <td>United Kingdom</td>\n",
       "      <td>2.55</td>\n",
       "    </tr>\n",
       "    <tr>\n",
       "      <th>483390</th>\n",
       "      <td>577503</td>\n",
       "      <td>72800B</td>\n",
       "      <td>4 PURPLE FLOCK DINNER CANDLES</td>\n",
       "      <td>1</td>\n",
       "      <td>20/11/2011 12:34</td>\n",
       "      <td>2.55</td>\n",
       "      <td>18110.00</td>\n",
       "      <td>United Kingdom</td>\n",
       "      <td>2.55</td>\n",
       "    </tr>\n",
       "    <tr>\n",
       "      <th>460074</th>\n",
       "      <td>575895</td>\n",
       "      <td>23345</td>\n",
       "      <td>DOLLY GIRL BEAKER</td>\n",
       "      <td>1</td>\n",
       "      <td>11/11/2011 14:50</td>\n",
       "      <td>1.25</td>\n",
       "      <td>17052.00</td>\n",
       "      <td>United Kingdom</td>\n",
       "      <td>1.25</td>\n",
       "    </tr>\n",
       "  </tbody>\n",
       "</table>\n",
       "</div>"
      ],
      "text/plain": [
       "       InvoiceNo StockCode                     Description  Quantity  \\\n",
       "160509    550459    72800B   4 PURPLE FLOCK DINNER CANDLES         1   \n",
       "160498    550459    72800B   4 PURPLE FLOCK DINNER CANDLES         1   \n",
       "483414    577503    72800B   4 PURPLE FLOCK DINNER CANDLES         1   \n",
       "483390    577503    72800B   4 PURPLE FLOCK DINNER CANDLES         1   \n",
       "460074    575895     23345               DOLLY GIRL BEAKER         1   \n",
       "\n",
       "             InvoiceDate  UnitPrice  CustomerID         Country  FinalPrice  \n",
       "160509  18/04/2011 13:17       2.55    18116.00  United Kingdom        2.55  \n",
       "160498  18/04/2011 13:17       2.55    18116.00  United Kingdom        2.55  \n",
       "483414  20/11/2011 12:34       2.55    18110.00  United Kingdom        2.55  \n",
       "483390  20/11/2011 12:34       2.55    18110.00  United Kingdom        2.55  \n",
       "460074  11/11/2011 14:50       1.25    17052.00  United Kingdom        1.25  "
      ]
     },
     "execution_count": 11,
     "metadata": {},
     "output_type": "execute_result"
    }
   ],
   "source": [
    "# Verifica a presença de registros duplicados no dataset\n",
    "cols_list = sales.columns\n",
    "duplicates = sales.duplicated(subset=cols_list, keep=False)\n",
    "sales[duplicates].sort_values('Description').head()"
   ]
  },
  {
   "cell_type": "code",
   "execution_count": 12,
   "id": "5a41f976",
   "metadata": {},
   "outputs": [
    {
     "data": {
      "text/plain": [
       "(531172, 9)"
      ]
     },
     "execution_count": 12,
     "metadata": {},
     "output_type": "execute_result"
    }
   ],
   "source": [
    "# Remove as linhas duplicadas e retorna o novo tamanho do dataset\n",
    "sales_processed = sales.drop_duplicates()\n",
    "sales_processed.shape"
   ]
  },
  {
   "cell_type": "code",
   "execution_count": 13,
   "id": "8a22e704",
   "metadata": {},
   "outputs": [
    {
     "data": {
      "text/plain": [
       "InvoiceNo           0\n",
       "StockCode           0\n",
       "Description         0\n",
       "Quantity            0\n",
       "InvoiceDate         0\n",
       "UnitPrice           0\n",
       "CustomerID     131516\n",
       "Country             0\n",
       "FinalPrice          0\n",
       "dtype: int64"
      ]
     },
     "execution_count": 13,
     "metadata": {},
     "output_type": "execute_result"
    }
   ],
   "source": [
    "# Checando valores ausentes\n",
    "sales_processed.isna().sum()"
   ]
  },
  {
   "cell_type": "markdown",
   "id": "1c53038e",
   "metadata": {},
   "source": [
    "Há presença de valores ausentes na coluna *[CustomerID].*\n",
    "\n",
    "A coluna de *[CustomerID]* só será utilizada nas duas últimas análises, logo, as linhas com valores ausentes serão mantidas na análise inicial."
   ]
  },
  {
   "cell_type": "code",
   "execution_count": 14,
   "id": "ff81bde5",
   "metadata": {},
   "outputs": [
    {
     "name": "stdout",
     "output_type": "stream",
     "text": [
      "Descriptions com mais de um StockCode associado:\n",
      "Description\n",
      "METAL SIGN,CUPCAKE SINGLE HOOK      6\n",
      "3 GARDENIA MORRIS BOXED CANDLES     2\n",
      "S/4 PINK FLOWER CANDLES IN BOWL     2\n",
      "SET OF 4 GREEN CAROUSEL COASTERS    2\n",
      "SET OF 4 FAIRY CAKE PLACEMATS       2\n",
      "                                   ..\n",
      "EDWARDIAN PARASOL NATURAL           2\n",
      "EDWARDIAN PARASOL BLACK             2\n",
      "EAU DE NILE JEWELLED PHOTOFRAME     2\n",
      "DOORMAT BLACK FLOCK                 2\n",
      "WOVEN ROSE GARDEN CUSHION COVER     2\n",
      "Name: StockCode, Length: 130, dtype: int64\n"
     ]
    }
   ],
   "source": [
    "# Verificando a existência de nomes de produtos iguais para diferentes StockCodes\n",
    "duplicates_descriptions = sales_processed.groupby('Description')['StockCode'].nunique()\n",
    "\n",
    "# Filtra os casos onde há mais de um StockCode para a mesma Description\n",
    "duplicates_descriptions = duplicates_descriptions[duplicates_descriptions > 1]\n",
    "\n",
    "# Imprime as Description com mais de um StockCode associado\n",
    "print(\"Descriptions com mais de um StockCode associado:\")\n",
    "print(duplicates_descriptions.sort_values(ascending=False))"
   ]
  },
  {
   "cell_type": "code",
   "execution_count": 15,
   "id": "1f98190a",
   "metadata": {},
   "outputs": [
    {
     "name": "stdout",
     "output_type": "stream",
     "text": [
      "StockCodes com mais de um Description associado:\n",
      "StockCode\n",
      "23236     4\n",
      "23196     4\n",
      "23203     3\n",
      "23370     3\n",
      "23366     3\n",
      "         ..\n",
      "23057     2\n",
      "23061     2\n",
      "23065     2\n",
      "23066     2\n",
      "90014C    2\n",
      "Name: Description, Length: 220, dtype: int64\n"
     ]
    }
   ],
   "source": [
    "# Verificando a existência de StockCodes iguais para diferentes Description\n",
    "duplicates_stock_codes = sales_processed.groupby('StockCode')['Description'].nunique()\n",
    "\n",
    "# Filtra os casos onde há mais de um Description para um mesmo StockCode\n",
    "duplicates_stock_codes = duplicates_stock_codes[duplicates_stock_codes > 1]\n",
    "\n",
    "# Imprime os StockCodes com mais de um Description associado\n",
    "print(\"StockCodes com mais de um Description associado:\")\n",
    "print(duplicates_stock_codes.sort_values(ascending=False))"
   ]
  },
  {
   "cell_type": "markdown",
   "id": "6ac25c37",
   "metadata": {},
   "source": [
    "Há dois casos observados:\n",
    "1. Um mesmo código possui descrições diferentes\n",
    "2. Códigos diferentes possuem descrições iguais.\n",
    "\n",
    "Para a análise feita neste notebook, será considerado que esses casos são decorrentes de cadastros errados, duplicados, registros incorretos ou alterações propositais nas descrições. "
   ]
  },
  {
   "cell_type": "code",
   "execution_count": 16,
   "id": "e18a6812",
   "metadata": {},
   "outputs": [
    {
     "data": {
      "text/plain": [
       "InvoiceNo      23195\n",
       "StockCode       3914\n",
       "Description     4019\n",
       "Quantity         507\n",
       "InvoiceDate    21308\n",
       "UnitPrice        515\n",
       "CustomerID      4362\n",
       "Country           38\n",
       "FinalPrice      5068\n",
       "dtype: int64"
      ]
     },
     "execution_count": 16,
     "metadata": {},
     "output_type": "execute_result"
    }
   ],
   "source": [
    "# Quantidade de valores únicos da coluna Description\n",
    "sales_processed.nunique()"
   ]
  },
  {
   "cell_type": "markdown",
   "id": "d5bf55af",
   "metadata": {},
   "source": [
    "Para simplificar a análise e melhorar a identificação dos produtos, cada registro único de *[Description]* será considerado como um produto diferente, já que a quantidade valores únicos de StockCode e Description são bem próximos.\n",
    "\n",
    "Observa-se, portanto, um total de 4019 tipos de produtos distintos"
   ]
  },
  {
   "cell_type": "code",
   "execution_count": null,
   "id": "93dec735",
   "metadata": {},
   "outputs": [],
   "source": []
  },
  {
   "cell_type": "code",
   "execution_count": null,
   "id": "d6a618db",
   "metadata": {},
   "outputs": [],
   "source": []
  }
 ],
 "metadata": {
  "kernelspec": {
   "display_name": "Python 3 (ipykernel)",
   "language": "python",
   "name": "python3"
  },
  "language_info": {
   "codemirror_mode": {
    "name": "ipython",
    "version": 3
   },
   "file_extension": ".py",
   "mimetype": "text/x-python",
   "name": "python",
   "nbconvert_exporter": "python",
   "pygments_lexer": "ipython3",
   "version": "3.11.5"
  }
 },
 "nbformat": 4,
 "nbformat_minor": 5
}
