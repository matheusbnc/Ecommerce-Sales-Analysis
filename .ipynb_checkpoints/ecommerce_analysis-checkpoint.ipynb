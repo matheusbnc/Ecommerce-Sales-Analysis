{
 "cells": [
  {
   "cell_type": "markdown",
   "id": "7c20fa75",
   "metadata": {},
   "source": [
    "# Análise do Dataset\n",
    "\n",
    "1. Quais são os 15 produtos mais vendidos em termos de quantidade e receita?\n",
    "\n",
    "2. Quais são os 15 produtos mais cancelados no período em termos de quantidade e receita?\n",
    "\n",
    "3. Quais são os 15 produtos com mais ocorrências de cancelamento no período?\n",
    "\n",
    "4. Qual são os paises com o maiores volumes de vendas? E o paises com o maiores valores médios de compra por transação?\n",
    "\n",
    "5. Quais são os padrões sazonais nas vendas ao longo do ano?\n",
    "\n",
    "6. Como as vendas variam ao longo da semana ou do mês?\n",
    "\n",
    "7. Quais são os produtos mais frequentemente comprados em conjunto?\n",
    "\n",
    "8. Existe uma correlação entre o tamanho do pedido (quantidade de itens) e o valor total da compra?\n",
    "\n",
    "9. Quais são os clientes mais frequentes e quem são os maiores gastadores?\n",
    "\n",
    "10. Qual é o valor médio de compra por cliente?"
   ]
  },
  {
   "cell_type": "code",
   "execution_count": 1,
   "id": "427e7ae2",
   "metadata": {},
   "outputs": [],
   "source": [
    "# Importando as bibliotecas necessárias\n",
    "import pandas as pd\n",
    "import numpy as np\n",
    "import matplotlib.pyplot as plt\n",
    "import seaborn as sns\n",
    "import warnings\n",
    "warnings.filterwarnings('ignore')"
   ]
  },
  {
   "cell_type": "code",
   "execution_count": 2,
   "id": "ff7cffd1",
   "metadata": {},
   "outputs": [],
   "source": [
    "# Configurando o estilo de plotagem do seaborn\n",
    "sns.set_style('whitegrid')\n"
   ]
  },
  {
   "cell_type": "code",
   "execution_count": 3,
   "id": "52fbc9b8",
   "metadata": {
    "scrolled": true
   },
   "outputs": [
    {
     "data": {
      "text/html": [
       "<div>\n",
       "<style scoped>\n",
       "    .dataframe tbody tr th:only-of-type {\n",
       "        vertical-align: middle;\n",
       "    }\n",
       "\n",
       "    .dataframe tbody tr th {\n",
       "        vertical-align: top;\n",
       "    }\n",
       "\n",
       "    .dataframe thead th {\n",
       "        text-align: right;\n",
       "    }\n",
       "</style>\n",
       "<table border=\"1\" class=\"dataframe\">\n",
       "  <thead>\n",
       "    <tr style=\"text-align: right;\">\n",
       "      <th></th>\n",
       "      <th>InvoiceNo</th>\n",
       "      <th>StockCode</th>\n",
       "      <th>Description</th>\n",
       "      <th>Quantity</th>\n",
       "      <th>InvoiceDate</th>\n",
       "      <th>UnitPrice</th>\n",
       "      <th>CustomerID</th>\n",
       "      <th>Country</th>\n",
       "    </tr>\n",
       "  </thead>\n",
       "  <tbody>\n",
       "    <tr>\n",
       "      <th>0</th>\n",
       "      <td>536365</td>\n",
       "      <td>85123A</td>\n",
       "      <td>WHITE HANGING HEART T-LIGHT HOLDER</td>\n",
       "      <td>6</td>\n",
       "      <td>01/12/2010 08:26</td>\n",
       "      <td>2.55</td>\n",
       "      <td>17850.0</td>\n",
       "      <td>United Kingdom</td>\n",
       "    </tr>\n",
       "    <tr>\n",
       "      <th>1</th>\n",
       "      <td>536365</td>\n",
       "      <td>71053</td>\n",
       "      <td>WHITE METAL LANTERN</td>\n",
       "      <td>6</td>\n",
       "      <td>01/12/2010 08:26</td>\n",
       "      <td>3.39</td>\n",
       "      <td>17850.0</td>\n",
       "      <td>United Kingdom</td>\n",
       "    </tr>\n",
       "    <tr>\n",
       "      <th>2</th>\n",
       "      <td>536365</td>\n",
       "      <td>84406B</td>\n",
       "      <td>CREAM CUPID HEARTS COAT HANGER</td>\n",
       "      <td>8</td>\n",
       "      <td>01/12/2010 08:26</td>\n",
       "      <td>2.75</td>\n",
       "      <td>17850.0</td>\n",
       "      <td>United Kingdom</td>\n",
       "    </tr>\n",
       "    <tr>\n",
       "      <th>3</th>\n",
       "      <td>536365</td>\n",
       "      <td>84029G</td>\n",
       "      <td>KNITTED UNION FLAG HOT WATER BOTTLE</td>\n",
       "      <td>6</td>\n",
       "      <td>01/12/2010 08:26</td>\n",
       "      <td>3.39</td>\n",
       "      <td>17850.0</td>\n",
       "      <td>United Kingdom</td>\n",
       "    </tr>\n",
       "    <tr>\n",
       "      <th>4</th>\n",
       "      <td>536365</td>\n",
       "      <td>84029E</td>\n",
       "      <td>RED WOOLLY HOTTIE WHITE HEART.</td>\n",
       "      <td>6</td>\n",
       "      <td>01/12/2010 08:26</td>\n",
       "      <td>3.39</td>\n",
       "      <td>17850.0</td>\n",
       "      <td>United Kingdom</td>\n",
       "    </tr>\n",
       "  </tbody>\n",
       "</table>\n",
       "</div>"
      ],
      "text/plain": [
       "  InvoiceNo StockCode                          Description  Quantity  \\\n",
       "0    536365    85123A   WHITE HANGING HEART T-LIGHT HOLDER         6   \n",
       "1    536365     71053                  WHITE METAL LANTERN         6   \n",
       "2    536365    84406B       CREAM CUPID HEARTS COAT HANGER         8   \n",
       "3    536365    84029G  KNITTED UNION FLAG HOT WATER BOTTLE         6   \n",
       "4    536365    84029E       RED WOOLLY HOTTIE WHITE HEART.         6   \n",
       "\n",
       "        InvoiceDate  UnitPrice  CustomerID         Country  \n",
       "0  01/12/2010 08:26       2.55     17850.0  United Kingdom  \n",
       "1  01/12/2010 08:26       3.39     17850.0  United Kingdom  \n",
       "2  01/12/2010 08:26       2.75     17850.0  United Kingdom  \n",
       "3  01/12/2010 08:26       3.39     17850.0  United Kingdom  \n",
       "4  01/12/2010 08:26       3.39     17850.0  United Kingdom  "
      ]
     },
     "execution_count": 3,
     "metadata": {},
     "output_type": "execute_result"
    }
   ],
   "source": [
    "# Carregando e lendo o dataset\n",
    "sales = pd.read_csv('C:/Users/mathe/Projetos Dados/EcommerceSalesAnalysis/App/Data/Online Retail.csv', delimiter=';', encoding='latin1', decimal=',')\n",
    "sales.head()"
   ]
  },
  {
   "cell_type": "code",
   "execution_count": null,
   "id": "9fd2600e",
   "metadata": {},
   "outputs": [],
   "source": [
    "sales.shape"
   ]
  },
  {
   "cell_type": "markdown",
   "id": "ab1b3e96",
   "metadata": {},
   "source": [
    "Uma análise do Dataset mostrou que além de registrar as operações de venda e cancelamento dos produtos, esse dataset também registra operações manuais de ajustes, descontos ofertados, taxas, comissões e outras operações.\n",
    "\n",
    "Portanto, como a análise está focada apenas na VENDA e CANCELAMENTO dos PRODUTOS, os registros citados serão excluídos.\n",
    "\n",
    "Essas operações são identificadas pela coluna *[StockCode]*, em que seus valores iniciam-se por uma letra."
   ]
  },
  {
   "cell_type": "code",
   "execution_count": null,
   "id": "407d7edc",
   "metadata": {},
   "outputs": [],
   "source": [
    "# Filtrando as operações que não se referem a produtos\n",
    "def not_number(value):\n",
    "    return not value[0].isdigit()\n",
    "\n",
    "# Filtra todos os registros que não vendas/cancelamento de produtos\n",
    "not_product_lines = sales[sales['StockCode'].apply(not_number)]\n",
    "\n",
    "# Obter os valores únicos das linhas\n",
    "not_product = not_product_lines['StockCode'].unique()\n",
    "\n",
    "# Imprimir os valores únicos que não começam com números\n",
    "print(not_product)"
   ]
  },
  {
   "cell_type": "code",
   "execution_count": null,
   "id": "bb2b7814",
   "metadata": {},
   "outputs": [],
   "source": [
    "# Filtrando o dataset apenas por venda e cancelamento de produtos\n",
    "sales = sales[~sales['StockCode'].isin(not_product)]"
   ]
  },
  {
   "cell_type": "code",
   "execution_count": null,
   "id": "43972290",
   "metadata": {},
   "outputs": [],
   "source": [
    "# Conhecendo os tipos dos dados\n",
    "sales.dtypes"
   ]
  },
  {
   "cell_type": "code",
   "execution_count": null,
   "id": "49b2237c",
   "metadata": {},
   "outputs": [],
   "source": [
    "# Alterando as colunas para os tipos de datas corretos\n",
    "sales['InvoiceDate'] = pd.to_datetime(sales['InvoiceDate'], format = '%d/%m/%Y %H:%M').dt.date\n",
    "sales.sample(5)"
   ]
  },
  {
   "cell_type": "code",
   "execution_count": null,
   "id": "7b4d66eb",
   "metadata": {},
   "outputs": [],
   "source": [
    "# Adicionando coluna de Preço Final de venda/devolução/descontos ou taxas para cada transação\n",
    "sales['FinalPrice'] = sales['Quantity'] * sales['UnitPrice']"
   ]
  },
  {
   "cell_type": "code",
   "execution_count": null,
   "id": "c294f336",
   "metadata": {
    "scrolled": true
   },
   "outputs": [],
   "source": [
    "# Resumo dos dados\n",
    "sales[['Quantity', 'UnitPrice', 'FinalPrice']].describe().T"
   ]
  },
  {
   "cell_type": "code",
   "execution_count": null,
   "id": "9cebfd10",
   "metadata": {},
   "outputs": [],
   "source": [
    "# Excluindo os registros com valor unitário igual a zero\n",
    "sales = sales[sales['UnitPrice'] > 0]\n",
    "sales.shape"
   ]
  },
  {
   "cell_type": "code",
   "execution_count": null,
   "id": "e4d473f1",
   "metadata": {},
   "outputs": [],
   "source": [
    "# Verifica a presença de registros duplicados no dataset\n",
    "cols_list = sales.columns\n",
    "duplicates = sales.duplicated(subset=cols_list, keep=False)\n",
    "sales[duplicates].sort_values('Description').head()"
   ]
  },
  {
   "cell_type": "code",
   "execution_count": null,
   "id": "e467129e",
   "metadata": {},
   "outputs": [],
   "source": [
    "# Remove as linhas duplicadas e retorna o novo tamanho do dataset\n",
    "sales.drop_duplicates(inplace=True)\n",
    "sales.shape"
   ]
  },
  {
   "cell_type": "code",
   "execution_count": null,
   "id": "7ca6b19a",
   "metadata": {},
   "outputs": [],
   "source": [
    "# Checando valores ausentes\n",
    "sales.isna().sum()"
   ]
  },
  {
   "cell_type": "markdown",
   "id": "a361572b",
   "metadata": {},
   "source": [
    "Há presença de valores ausentes na coluna *[CustomerID].*\n",
    "\n",
    "A coluna de *[CustomerID]* só será utilizada nas duas últimas análises, logo, as linhas com valores ausentes serão mantidas na análise inicial."
   ]
  },
  {
   "cell_type": "code",
   "execution_count": null,
   "id": "ff81bde5",
   "metadata": {},
   "outputs": [],
   "source": [
    "# Verificando a existência de nomes de produtos iguais para diferentes StockCodes\n",
    "duplicates_descriptions = sales.groupby('Description')['StockCode'].nunique()\n",
    "\n",
    "# Filtra os casos onde há mais de um StockCode para a mesma Description\n",
    "duplicates_descriptions = duplicates_descriptions[duplicates_descriptions > 1]\n",
    "\n",
    "# Imprime as Description com mais de um StockCode associado\n",
    "print(\"Descriptions com mais de um StockCode associado:\")\n",
    "print(duplicates_descriptions.sort_values(ascending=False))"
   ]
  },
  {
   "cell_type": "code",
   "execution_count": null,
   "id": "1f98190a",
   "metadata": {},
   "outputs": [],
   "source": [
    "# Verificando a existência de StockCodes iguais para diferentes Description\n",
    "duplicates_stock_codes = sales.groupby('StockCode')['Description'].nunique()\n",
    "\n",
    "# Filtra os casos onde há mais de um Description para um mesmo StockCode\n",
    "duplicates_stock_codes = duplicates_stock_codes[duplicates_stock_codes > 1]\n",
    "\n",
    "# Imprime os StockCodes com mais de um Description associado\n",
    "print(\"StockCodes com mais de um Description associado:\")\n",
    "print(duplicates_stock_codes.sort_values(ascending=False))"
   ]
  },
  {
   "cell_type": "markdown",
   "id": "6ac25c37",
   "metadata": {},
   "source": [
    "Há dois casos observados:\n",
    "1. Um mesmo código possui descrições diferentes\n",
    "2. Códigos diferentes possuem descrições iguais.\n",
    "\n",
    "Para a análise feita neste notebook, será considerado que esses casos são decorrentes de cadastros errados, duplicados, registros incorretos ou alterações propositais nas descrições. "
   ]
  },
  {
   "cell_type": "code",
   "execution_count": null,
   "id": "e18a6812",
   "metadata": {},
   "outputs": [],
   "source": [
    "# Quantidade de valores únicos da coluna Description\n",
    "sales.nunique()"
   ]
  },
  {
   "cell_type": "markdown",
   "id": "d5bf55af",
   "metadata": {},
   "source": [
    "Para simplificar a análise e melhorar a identificação dos produtos, cada registro único de *[Description]* será considerado como um produto diferente, já que a quantidade valores únicos de StockCode e Description são bem próximos.\n",
    "\n",
    "Observa-se, portanto, um total de 4019 tipos de produtos distintos"
   ]
  },
  {
   "cell_type": "markdown",
   "id": "3e4e268e",
   "metadata": {},
   "source": [
    "### 1. Quais são os produtos mais vendidos em termos de quantidade e receita?\n",
    "Como os valores negativos em *[Quantity]* e *[FinalPrice]* para as transações representam as devoluções, é importante considera-los para obter o saldo final da quantidade de produtos que realmente foi vendida e o valor real obtido por cada produto."
   ]
  },
  {
   "cell_type": "code",
   "execution_count": null,
   "id": "0d6110b3",
   "metadata": {
    "scrolled": false
   },
   "outputs": [],
   "source": [
    "# Agrupando os dados por produto, considerando a quantidade total vendida e receita gerada\n",
    "sales_grouped = sales.groupby('Description').agg({'Quantity': 'sum', 'FinalPrice': 'sum'}).reset_index()\n",
    "sales_grouped.head()"
   ]
  },
  {
   "cell_type": "code",
   "execution_count": null,
   "id": "ab04b002",
   "metadata": {},
   "outputs": [],
   "source": [
    "def title_col(data, col):\n",
    "    '''\n",
    "    Converte a primeira letra de cada palavra para maíuscula em uma coluna específica de um dataframe\n",
    "    \n",
    "    Parâmetros:\n",
    "    -----------    \n",
    "    data : pandas.DataFrame\n",
    "        O DataFrame onde a coluna está localizada\n",
    "    col : str\n",
    "        A coluna que será transformada. Deve ser string.\n",
    "    '''\n",
    "    data[col] = data[col].apply(lambda x: x.title())\n",
    "    return data"
   ]
  },
  {
   "cell_type": "code",
   "execution_count": null,
   "id": "93522146",
   "metadata": {},
   "outputs": [],
   "source": [
    "# Ordenando os produtos com mais unidades vendidas\n",
    "sales_quantity_sorted = sales_grouped.sort_values(by='Quantity', ascending=False).reset_index(drop=True)\n",
    "\n",
    "# Removendo maiúsculas desnecessárias\n",
    "sales_quantity_sorted = title_col(sales_quantity_sorted, 'Description')\n",
    "\n",
    "# Verificando se há apenas produtos nos primeiros 15 registros\n",
    "sales_quantity_sorted[:15]"
   ]
  },
  {
   "cell_type": "code",
   "execution_count": null,
   "id": "f52439aa",
   "metadata": {},
   "outputs": [],
   "source": [
    "# Ordenando os produtos que geraram mais receita\n",
    "profitable_sales = sales_grouped.sort_values(by='FinalPrice', ascending=False).reset_index(drop=True)\n",
    "\n",
    "# Removendo maiúsculas desnecessárias\n",
    "profitable_sales = title_col(profitable_sales, 'Description')\n",
    "\n",
    "# Verificando se há apenas produtos nos primeiros 15 registros\n",
    "profitable_sales[:15]"
   ]
  },
  {
   "cell_type": "code",
   "execution_count": null,
   "id": "62f5b4bf",
   "metadata": {},
   "outputs": [],
   "source": [
    "def format_number(num):\n",
    "    '''\n",
    "    Formata o número de acordo com o tipo de número recebido\n",
    "    \n",
    "    Parâmetro:\n",
    "        num (int, float): Número a ser formatado\n",
    "    '''\n",
    "    if isinstance(num, float):\n",
    "        if num.is_integer(): # Checa se a parte fracionária do float é zero\n",
    "            return f\"{int(num):d}\"  # Transforma o float para int\n",
    "        else:\n",
    "            return f\"{num:.2f}\" # Retorna o float com 2 casas decimais\n",
    "    if isinstance(num, int):\n",
    "        return f\"{num:d}\"  # Retorna o número inteiro normalmente\n",
    "    else:\n",
    "        return str(num)  # Retorna como string se não for int nem float"
   ]
  },
  {
   "cell_type": "code",
   "execution_count": null,
   "id": "aa80df92",
   "metadata": {},
   "outputs": [],
   "source": [
    "def add_bar_values(ax, space=5):\n",
    "    '''\n",
    "    Imprime os valores exatos de cada barra em um gráfico de barras horizontal\n",
    "    \n",
    "    Parâmetros:\n",
    "        ax (matplotlib.axes.Axes): Gráfico a ser personalizado\n",
    "        space (int, opcional): Espaçamento entre a barra e o início do texto. Padrão: 3\n",
    "    '''\n",
    "    for i in ax.patches: \n",
    "        bar_value = i.get_width() # Obtém o valor correspondente da barra, representado pela largura\n",
    "        ax.text(bar_value + space, # Determina a posição horizontal de onde o valor será impresso\n",
    "                i.get_y() + i.get_height() / 2, # Determina a posição vertical de onde o valor será impresso\n",
    "                format_number(bar_value), # Valor que será impresso (formatado)\n",
    "                ha='left', # Alinhamento horizontal do texto a esquerda\n",
    "                va='center', # Alinhamento vertical do texto centralizado \n",
    "                fontsize=10) # Tamanho da fonte do número"
   ]
  },
  {
   "cell_type": "code",
   "execution_count": null,
   "id": "32fd796c",
   "metadata": {},
   "outputs": [],
   "source": [
    "# Plotando o gráfico de produtos com mais unidades vendidas\n",
    "plt.figure(figsize=(12,8))\n",
    "top15_quantity = sns.barplot(data=sales_quantity_sorted.head(15), \n",
    "                             x='Quantity', y='Description', \n",
    "                             palette='viridis')\n",
    "plt.xlabel('Quantidade Vendida', fontsize=14, fontweight='bold')\n",
    "plt.ylabel('Produto', fontsize=14, fontweight='bold')\n",
    "plt.xticks(fontsize=12)\n",
    "plt.yticks(fontsize=12)\n",
    "plt.title('Produtos Com Mais Unidades Vendidas no Período', fontsize=16, fontweight='bold')\n",
    "add_bar_values(top15_quantity)\n",
    "plt.show()"
   ]
  },
  {
   "cell_type": "code",
   "execution_count": null,
   "id": "34679364",
   "metadata": {},
   "outputs": [],
   "source": [
    "# Plotando o gráfico de produtos que geraram mais receitas\n",
    "plt.figure(figsize=(12,8))\n",
    "top15_profitable = sns.barplot(data=profitable_sales.head(15), \n",
    "                               x='FinalPrice', y='Description', \n",
    "                               palette='viridis')\n",
    "\n",
    "plt.xlabel('Valor Total (£)', fontsize=14, fontweight='bold')\n",
    "plt.ylabel('Produto', fontsize=14, fontweight='bold')\n",
    "plt.xticks(fontsize=12)\n",
    "plt.yticks(fontsize=12)\n",
    "plt.title('Produtos Mais Rentáveis no Período', fontsize=16, fontweight='bold')\n",
    "add_bar_values(top15_profitable)\n",
    "plt.show()"
   ]
  },
  {
   "cell_type": "markdown",
   "id": "20443f12",
   "metadata": {},
   "source": [
    "### 2. Quais são os produtos mais devolvidos no período em termos de quantidade e            receita?\n",
    "As devoluções são pelos registros da coluna *[InvoiceNo]* que começam com C"
   ]
  },
  {
   "cell_type": "code",
   "execution_count": null,
   "id": "97645d91",
   "metadata": {
    "scrolled": true
   },
   "outputs": [],
   "source": [
    "# Agrupando por produto, levando em conta ocorrências de cancelamento, quantidade cancelada e valor cancelado\n",
    "canceled_products = sales[sales['InvoiceNo'].str.startswith('C')].groupby('Description')\\\n",
    "                        .agg({'Quantity':'sum', 'FinalPrice': 'sum', 'InvoiceNo':'count'})\\\n",
    "                        .abs().reset_index()\n",
    "\n",
    "# Removendo maiúsculas desnecessárias\n",
    "canceled_products = title_col(canceled_products, 'Description')\n",
    "\n",
    "# Ordenando por produtos com mais unidades canceladas\n",
    "more_units_canceled = canceled_products.sort_values(by=['Quantity'], ascending=False)\\\n",
    "                        .reset_index(drop=True)\n",
    "\n",
    "# Ordenando por produtos com maiores valores de cancelamento\n",
    "higher_canceled_values = canceled_products.sort_values(by=['FinalPrice'], ascending=False)\\\n",
    "                        .reset_index(drop=True)\n",
    "\n",
    "# Ordenando por produtos com mais ocorrências de cancelamento\n",
    "more_cancellations = canceled_products.sort_values(by=['InvoiceNo'], ascending=False)\\\n",
    "                        .reset_index(drop=True)"
   ]
  },
  {
   "cell_type": "code",
   "execution_count": null,
   "id": "24a1d607",
   "metadata": {},
   "outputs": [],
   "source": [
    "# Checando os 20 primeiros produtos com mais unidades canceladas\n",
    "more_units_canceled.head(20)"
   ]
  },
  {
   "cell_type": "code",
   "execution_count": null,
   "id": "13efee82",
   "metadata": {},
   "outputs": [],
   "source": [
    "# Checando os 20 primeiros produtos com maior valor de cancelamento\n",
    "higher_canceled_values.head(20)"
   ]
  },
  {
   "cell_type": "code",
   "execution_count": null,
   "id": "09d4b16a",
   "metadata": {
    "scrolled": true
   },
   "outputs": [],
   "source": [
    "# Checando os 20 primeiros produtos com maiores ocorrências de cancelamento\n",
    "more_cancellations.head(20)"
   ]
  },
  {
   "cell_type": "code",
   "execution_count": null,
   "id": "897f20bc",
   "metadata": {},
   "outputs": [],
   "source": [
    "# Plotando o gráfico de produtos com mais unidades canceladas\n",
    "plt.figure(figsize=(12,8))\n",
    "top15_canceled_units = sns.barplot(data=more_units_canceled.head(15), \n",
    "                               x='Quantity', y='Description', \n",
    "                               palette='rocket_r')\n",
    "\n",
    "plt.xlabel('Unidades Canceladas', fontsize=14, fontweight='bold')\n",
    "plt.ylabel('Produto', fontsize=14, fontweight='bold')\n",
    "plt.xticks(fontsize=12)\n",
    "plt.yticks(fontsize=12)\n",
    "plt.title('Produtos Com Mais Unidades Canceladas no Período', fontsize=16, fontweight='bold')\n",
    "add_bar_values(top15_canceled_units)\n",
    "plt.show()"
   ]
  },
  {
   "cell_type": "code",
   "execution_count": null,
   "id": "892ea86a",
   "metadata": {},
   "outputs": [],
   "source": [
    "# Plotando o gráfico de produtos com maiores valores de cancelamento\n",
    "plt.figure(figsize=(12,8))\n",
    "top15_canceled_values = sns.barplot(data=higher_canceled_values.head(15), \n",
    "                               x='FinalPrice', y='Description', \n",
    "                               palette='rocket_r')\n",
    "\n",
    "plt.xlabel('Valor Total (£)', fontsize=14, fontweight='bold')\n",
    "plt.ylabel('Produto', fontsize=14, fontweight='bold')\n",
    "plt.xticks(fontsize=12)\n",
    "plt.yticks(fontsize=12)\n",
    "plt.title('Maiores Preços de Cancelamento no Período', fontsize=16, fontweight='bold')\n",
    "add_bar_values(top15_canceled_values)\n",
    "plt.show()"
   ]
  },
  {
   "cell_type": "markdown",
   "id": "eb1605c7",
   "metadata": {},
   "source": [
    "### 3. Quais são os 15 produtos com mais ocorrências de cancelamento no período?"
   ]
  },
  {
   "cell_type": "code",
   "execution_count": null,
   "id": "1b3a42f2",
   "metadata": {},
   "outputs": [],
   "source": [
    "# Plotando o gráfico de produtos com mais ocorrências de cancelamento no período\n",
    "plt.figure(figsize=(12,8))\n",
    "top15_cancel_occurrences = sns.barplot(data=more_cancellations.head(15), \n",
    "                               x='InvoiceNo', y='Description', \n",
    "                               palette='rocket_r')\n",
    "\n",
    "plt.xlabel('Ocorrências', fontsize=14, fontweight='bold')\n",
    "plt.ylabel('Produto', fontsize=14, fontweight='bold')\n",
    "plt.xticks(fontsize=12)\n",
    "plt.yticks(fontsize=12)\n",
    "plt.title('Produtos com Mais Ocorrências de Cancelamento', fontsize=16, fontweight='bold')\n",
    "add_bar_values(top15_cancel_occurrences, 2)\n",
    "plt.show()"
   ]
  },
  {
   "cell_type": "code",
   "execution_count": null,
   "id": "b40f3d08",
   "metadata": {},
   "outputs": [],
   "source": []
  }
 ],
 "metadata": {
  "kernelspec": {
   "display_name": "Python 3 (ipykernel)",
   "language": "python",
   "name": "python3"
  },
  "language_info": {
   "codemirror_mode": {
    "name": "ipython",
    "version": 3
   },
   "file_extension": ".py",
   "mimetype": "text/x-python",
   "name": "python",
   "nbconvert_exporter": "python",
   "pygments_lexer": "ipython3",
   "version": "3.11.5"
  }
 },
 "nbformat": 4,
 "nbformat_minor": 5
}
