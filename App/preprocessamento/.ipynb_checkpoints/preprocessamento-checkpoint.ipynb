{
 "cells": [
  {
   "cell_type": "markdown",
   "id": "7c20fa75",
   "metadata": {},
   "source": [
    "# Análise do Dataset\n",
    "\n",
    "1. Quais são os 15 produtos mais vendidos em termos de quantidade e receita?\n",
    "\n",
    "2. Quais são os 15 produtos mais cancelados no período em termos de quantidade e receita?\n",
    "\n",
    "3. Quais são os 15 produtos com mais ocorrências de cancelamento no período?\n",
    "\n",
    "4. Qual são os paises com o maiores volumes de vendas? E o paises com o maiores valores médios de compra por transação?\n",
    "\n",
    "5. Quais são os padrões sazonais nas vendas ao longo do ano?\n",
    "\n",
    "6. Como as vendas variam ao longo da semana ou do mês?\n",
    "\n",
    "7. Quais são os produtos mais frequentemente comprados em conjunto?\n",
    "\n",
    "8. Existe uma correlação entre o tamanho do pedido (quantidade de itens) e o valor total da compra?\n",
    "\n",
    "9. Quais são os clientes mais frequentes e quem são os maiores gastadores?\n",
    "\n",
    "10. Qual é o valor médio de compra por cliente?"
   ]
  },
  {
   "cell_type": "code",
   "execution_count": null,
   "id": "427e7ae2",
   "metadata": {},
   "outputs": [],
   "source": [
    "# Importando as bibliotecas necessárias\n",
    "import pandas as pd\n",
    "import numpy as np"
   ]
  },
  {
   "cell_type": "code",
   "execution_count": null,
   "id": "ff7cffd1",
   "metadata": {},
   "outputs": [],
   "source": [
    "pd.set_option('display.float_format', '{:.2f}'.format)"
   ]
  },
  {
   "cell_type": "code",
   "execution_count": null,
   "id": "52fbc9b8",
   "metadata": {
    "scrolled": true
   },
   "outputs": [],
   "source": [
    "# Carregando e lendo o dataset\n",
    "sales = pd.read_csv('C:/Users/mathe/Projetos Dados/EcommerceSalesAnalysis/App/Data/Online Retail.csv', delimiter=';', encoding='latin1', decimal=',')\n",
    "sales.head()"
   ]
  },
  {
   "cell_type": "code",
   "execution_count": null,
   "id": "7ce6bfc7",
   "metadata": {},
   "outputs": [],
   "source": [
    "sales.shape"
   ]
  },
  {
   "cell_type": "markdown",
   "id": "36393c77",
   "metadata": {},
   "source": [
    "Uma análise do Dataset mostrou que além de registrar as operações de venda e cancelamento dos produtos, esse dataset também registra operações manuais de ajustes, descontos ofertados, taxas, comissões e outras operações.\n",
    "\n",
    "Portanto, como a análise está focada apenas na VENDA e CANCELAMENTO dos PRODUTOS, os registros citados serão excluídos.\n",
    "\n",
    "Essas operações são identificadas pela coluna *[StockCode]*, em que seus valores iniciam-se por uma letra."
   ]
  },
  {
   "cell_type": "code",
   "execution_count": null,
   "id": "086d2d21",
   "metadata": {},
   "outputs": [],
   "source": [
    "# Filtrando as operações que não se referem a produtos\n",
    "def not_number(value):\n",
    "    return not value[0].isdigit()\n",
    "\n",
    "# Filtra todos os registros que não vendas/cancelamento de produtos\n",
    "not_product_lines = sales[sales['StockCode'].apply(not_number)]\n",
    "\n",
    "# Obter os valores únicos das linhas\n",
    "not_product = not_product_lines['StockCode'].unique()\n",
    "\n",
    "# Imprimir os valores únicos que não começam com números\n",
    "print(not_product)"
   ]
  },
  {
   "cell_type": "code",
   "execution_count": null,
   "id": "8e672b61",
   "metadata": {},
   "outputs": [],
   "source": [
    "# Filtrando o dataset apenas por venda e cancelamento de produtos\n",
    "sales = sales[~sales['StockCode'].isin(not_product)]"
   ]
  },
  {
   "cell_type": "code",
   "execution_count": null,
   "id": "eb1acac3",
   "metadata": {},
   "outputs": [],
   "source": [
    "# Conhecendo os tipos dos dados\n",
    "sales.dtypes"
   ]
  },
  {
   "cell_type": "code",
   "execution_count": null,
   "id": "01168161",
   "metadata": {},
   "outputs": [],
   "source": [
    "# Adicionando coluna de Preço Final de venda/devolução/descontos ou taxas para cada transação\n",
    "sales['FinalPrice'] = sales['Quantity'] * sales['UnitPrice']"
   ]
  },
  {
   "cell_type": "code",
   "execution_count": null,
   "id": "2848def2",
   "metadata": {
    "scrolled": true
   },
   "outputs": [],
   "source": [
    "# Resumo dos dados\n",
    "sales[['Quantity', 'UnitPrice', 'FinalPrice']].describe().T"
   ]
  },
  {
   "cell_type": "code",
   "execution_count": null,
   "id": "35be1ce9",
   "metadata": {},
   "outputs": [],
   "source": [
    "# Excluindo os registros com valor unitário igual a zero\n",
    "sales = sales[sales['UnitPrice'] > 0]\n",
    "sales.shape"
   ]
  },
  {
   "cell_type": "code",
   "execution_count": null,
   "id": "f3fe3c3c",
   "metadata": {},
   "outputs": [],
   "source": [
    "# Verifica a presença de registros duplicados no dataset\n",
    "cols_list = sales.columns\n",
    "duplicates = sales.duplicated(subset=cols_list, keep=False)\n",
    "sales[duplicates].sort_values('Description').head()"
   ]
  },
  {
   "cell_type": "code",
   "execution_count": null,
   "id": "5a41f976",
   "metadata": {},
   "outputs": [],
   "source": [
    "# Remove as linhas duplicadas e retorna o novo tamanho do dataset\n",
    "sales_processed = sales.drop_duplicates()\n",
    "sales_processed.shape"
   ]
  },
  {
   "cell_type": "code",
   "execution_count": null,
   "id": "8a22e704",
   "metadata": {},
   "outputs": [],
   "source": [
    "# Checando valores ausentes\n",
    "sales_processed.isna().sum()"
   ]
  },
  {
   "cell_type": "markdown",
   "id": "1c53038e",
   "metadata": {},
   "source": [
    "Há presença de valores ausentes na coluna *[CustomerID].*\n",
    "\n",
    "A coluna de *[CustomerID]* só será utilizada nas duas últimas análises, logo, as linhas com valores ausentes serão mantidas na análise inicial."
   ]
  },
  {
   "cell_type": "code",
   "execution_count": null,
   "id": "ff81bde5",
   "metadata": {},
   "outputs": [],
   "source": [
    "# Verificando a existência de nomes de produtos iguais para diferentes StockCodes\n",
    "duplicates_descriptions = sales_processed.groupby('Description')['StockCode'].nunique()\n",
    "\n",
    "# Filtra os casos onde há mais de um StockCode para a mesma Description\n",
    "duplicates_descriptions = duplicates_descriptions[duplicates_descriptions > 1]\n",
    "\n",
    "# Imprime as Description com mais de um StockCode associado\n",
    "print(\"Descriptions com mais de um StockCode associado:\")\n",
    "print(duplicates_descriptions.sort_values(ascending=False))"
   ]
  },
  {
   "cell_type": "code",
   "execution_count": null,
   "id": "1f98190a",
   "metadata": {},
   "outputs": [],
   "source": [
    "# Verificando a existência de StockCodes iguais para diferentes Description\n",
    "duplicates_stock_codes = sales_processed.groupby('StockCode')['Description'].nunique()\n",
    "\n",
    "# Filtra os casos onde há mais de um Description para um mesmo StockCode\n",
    "duplicates_stock_codes = duplicates_stock_codes[duplicates_stock_codes > 1]\n",
    "\n",
    "# Imprime os StockCodes com mais de um Description associado\n",
    "print(\"StockCodes com mais de um Description associado:\")\n",
    "print(duplicates_stock_codes.sort_values(ascending=False))"
   ]
  },
  {
   "cell_type": "markdown",
   "id": "6ac25c37",
   "metadata": {},
   "source": [
    "Há dois casos observados:\n",
    "1. Um mesmo código possui descrições diferentes\n",
    "2. Códigos diferentes possuem descrições iguais.\n",
    "\n",
    "Para a análise feita neste notebook, será considerado que esses casos são decorrentes de cadastros errados, duplicados, registros incorretos ou alterações propositais nas descrições. "
   ]
  },
  {
   "cell_type": "code",
   "execution_count": null,
   "id": "e18a6812",
   "metadata": {},
   "outputs": [],
   "source": [
    "# Quantidade de valores únicos da coluna Description\n",
    "sales_processed.nunique()"
   ]
  },
  {
   "cell_type": "markdown",
   "id": "d5bf55af",
   "metadata": {},
   "source": [
    "Para simplificar a análise e melhorar a identificação dos produtos, cada registro único de *[Description]* será considerado como um produto diferente, já que a quantidade valores únicos de StockCode e Description são bem próximos.\n",
    "\n",
    "Observa-se, portanto, um total de 4019 tipos de produtos distintos"
   ]
  },
  {
   "cell_type": "code",
   "execution_count": null,
   "id": "30937ff4",
   "metadata": {},
   "outputs": [],
   "source": [
    "sales_processed.to_csv('C:/Users/mathe/Projetos Dados/EcommerceSalesAnalysis/App/Data/OnlineRetail_processed.csv', index=False, encoding='utf-8')"
   ]
  },
  {
   "cell_type": "code",
   "execution_count": null,
   "id": "93dec735",
   "metadata": {},
   "outputs": [],
   "source": []
  },
  {
   "cell_type": "code",
   "execution_count": null,
   "id": "d6a618db",
   "metadata": {},
   "outputs": [],
   "source": []
  }
 ],
 "metadata": {
  "kernelspec": {
   "display_name": "Python 3 (ipykernel)",
   "language": "python",
   "name": "python3"
  },
  "language_info": {
   "codemirror_mode": {
    "name": "ipython",
    "version": 3
   },
   "file_extension": ".py",
   "mimetype": "text/x-python",
   "name": "python",
   "nbconvert_exporter": "python",
   "pygments_lexer": "ipython3",
   "version": "3.11.5"
  }
 },
 "nbformat": 4,
 "nbformat_minor": 5
}
