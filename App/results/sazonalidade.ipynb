{
 "cells": [
  {
   "cell_type": "code",
   "execution_count": null,
   "id": "30c3bfb8",
   "metadata": {},
   "outputs": [],
   "source": [
    "import pandas as pd\n",
    "import numpy as np\n",
    "from functions.functions import plot_line, data_summary\n",
    "from time import sleep"
   ]
  },
  {
   "cell_type": "code",
   "execution_count": null,
   "id": "4ab2fa3a",
   "metadata": {},
   "outputs": [],
   "source": [
    "def daily_variation_quantity(sales_saz):\n",
    "    sales_saz = sales_saz.groupby('Day').apply(lambda x: pd.Series({\n",
    "        'Quantidade Vendida': x.loc[~x['InvoiceNo'].str.startswith('C'), 'Quantity'].sum()\\\n",
    "        ,'Quantidade Cancelada': x.loc[x['InvoiceNo'].str.startswith('C'), 'Quantity']\\\n",
    "        .sum()})).reset_index()\n",
    "    sales_saz['Quantidade Cancelada'] = sales_saz['Quantidade Cancelada'].abs()\n",
    "    data_summary(sales_saz)    "
   ]
  },
  {
   "cell_type": "code",
   "execution_count": null,
   "id": "0c17c2a3",
   "metadata": {},
   "outputs": [],
   "source": []
  }
 ],
 "metadata": {
  "kernelspec": {
   "display_name": "Python 3 (ipykernel)",
   "language": "python",
   "name": "python3"
  },
  "language_info": {
   "codemirror_mode": {
    "name": "ipython",
    "version": 3
   },
   "file_extension": ".py",
   "mimetype": "text/x-python",
   "name": "python",
   "nbconvert_exporter": "python",
   "pygments_lexer": "ipython3",
   "version": "3.11.5"
  }
 },
 "nbformat": 4,
 "nbformat_minor": 5
}
