{
 "cells": [
  {
   "cell_type": "code",
   "execution_count": 1,
   "id": "427e7ae2",
   "metadata": {},
   "outputs": [],
   "source": [
    "# Importa as bibliotecas necessárias\n",
    "import pandas as pd\n",
    "import numpy as np"
   ]
  },
  {
   "cell_type": "code",
   "execution_count": 2,
   "id": "ff7cffd1",
   "metadata": {},
   "outputs": [],
   "source": [
    "# Configura o estilo de exibição de floats\n",
    "pd.set_option('display.float_format', '{:.2f}'.format)"
   ]
  },
  {
   "cell_type": "code",
   "execution_count": 3,
   "id": "52fbc9b8",
   "metadata": {
    "scrolled": true
   },
   "outputs": [
    {
     "data": {
      "text/html": [
       "<div>\n",
       "<style scoped>\n",
       "    .dataframe tbody tr th:only-of-type {\n",
       "        vertical-align: middle;\n",
       "    }\n",
       "\n",
       "    .dataframe tbody tr th {\n",
       "        vertical-align: top;\n",
       "    }\n",
       "\n",
       "    .dataframe thead th {\n",
       "        text-align: right;\n",
       "    }\n",
       "</style>\n",
       "<table border=\"1\" class=\"dataframe\">\n",
       "  <thead>\n",
       "    <tr style=\"text-align: right;\">\n",
       "      <th></th>\n",
       "      <th>InvoiceNo</th>\n",
       "      <th>StockCode</th>\n",
       "      <th>Description</th>\n",
       "      <th>Quantity</th>\n",
       "      <th>InvoiceDate</th>\n",
       "      <th>UnitPrice</th>\n",
       "      <th>CustomerID</th>\n",
       "      <th>Country</th>\n",
       "    </tr>\n",
       "  </thead>\n",
       "  <tbody>\n",
       "    <tr>\n",
       "      <th>0</th>\n",
       "      <td>536365</td>\n",
       "      <td>85123A</td>\n",
       "      <td>WHITE HANGING HEART T-LIGHT HOLDER</td>\n",
       "      <td>6</td>\n",
       "      <td>01/12/2010 08:26</td>\n",
       "      <td>2.55</td>\n",
       "      <td>17850.00</td>\n",
       "      <td>United Kingdom</td>\n",
       "    </tr>\n",
       "    <tr>\n",
       "      <th>1</th>\n",
       "      <td>536365</td>\n",
       "      <td>71053</td>\n",
       "      <td>WHITE METAL LANTERN</td>\n",
       "      <td>6</td>\n",
       "      <td>01/12/2010 08:26</td>\n",
       "      <td>3.39</td>\n",
       "      <td>17850.00</td>\n",
       "      <td>United Kingdom</td>\n",
       "    </tr>\n",
       "    <tr>\n",
       "      <th>2</th>\n",
       "      <td>536365</td>\n",
       "      <td>84406B</td>\n",
       "      <td>CREAM CUPID HEARTS COAT HANGER</td>\n",
       "      <td>8</td>\n",
       "      <td>01/12/2010 08:26</td>\n",
       "      <td>2.75</td>\n",
       "      <td>17850.00</td>\n",
       "      <td>United Kingdom</td>\n",
       "    </tr>\n",
       "    <tr>\n",
       "      <th>3</th>\n",
       "      <td>536365</td>\n",
       "      <td>84029G</td>\n",
       "      <td>KNITTED UNION FLAG HOT WATER BOTTLE</td>\n",
       "      <td>6</td>\n",
       "      <td>01/12/2010 08:26</td>\n",
       "      <td>3.39</td>\n",
       "      <td>17850.00</td>\n",
       "      <td>United Kingdom</td>\n",
       "    </tr>\n",
       "    <tr>\n",
       "      <th>4</th>\n",
       "      <td>536365</td>\n",
       "      <td>84029E</td>\n",
       "      <td>RED WOOLLY HOTTIE WHITE HEART.</td>\n",
       "      <td>6</td>\n",
       "      <td>01/12/2010 08:26</td>\n",
       "      <td>3.39</td>\n",
       "      <td>17850.00</td>\n",
       "      <td>United Kingdom</td>\n",
       "    </tr>\n",
       "  </tbody>\n",
       "</table>\n",
       "</div>"
      ],
      "text/plain": [
       "  InvoiceNo StockCode                          Description  Quantity  \\\n",
       "0    536365    85123A   WHITE HANGING HEART T-LIGHT HOLDER         6   \n",
       "1    536365     71053                  WHITE METAL LANTERN         6   \n",
       "2    536365    84406B       CREAM CUPID HEARTS COAT HANGER         8   \n",
       "3    536365    84029G  KNITTED UNION FLAG HOT WATER BOTTLE         6   \n",
       "4    536365    84029E       RED WOOLLY HOTTIE WHITE HEART.         6   \n",
       "\n",
       "        InvoiceDate  UnitPrice  CustomerID         Country  \n",
       "0  01/12/2010 08:26       2.55    17850.00  United Kingdom  \n",
       "1  01/12/2010 08:26       3.39    17850.00  United Kingdom  \n",
       "2  01/12/2010 08:26       2.75    17850.00  United Kingdom  \n",
       "3  01/12/2010 08:26       3.39    17850.00  United Kingdom  \n",
       "4  01/12/2010 08:26       3.39    17850.00  United Kingdom  "
      ]
     },
     "execution_count": 3,
     "metadata": {},
     "output_type": "execute_result"
    }
   ],
   "source": [
    "# Carrega e lê o dataframe\n",
    "sales = pd.read_csv('C:/Users/mathe/Projetos Dados/EcommerceSalesAnalysis/App/Data/Online Retail.csv', delimiter=';', encoding='latin1', decimal=',')\n",
    "sales.head()"
   ]
  },
  {
   "cell_type": "markdown",
   "id": "af9a0145",
   "metadata": {},
   "source": [
    "#### Deve ser adicionada uma coluna de Preço Final de venda/devolução para cada transação"
   ]
  },
  {
   "cell_type": "code",
   "execution_count": 4,
   "id": "7ce6bfc7",
   "metadata": {},
   "outputs": [
    {
     "data": {
      "text/plain": [
       "(541909, 8)"
      ]
     },
     "execution_count": 4,
     "metadata": {},
     "output_type": "execute_result"
    }
   ],
   "source": [
    "# Checa as dimensões do dataframe\n",
    "sales.shape"
   ]
  },
  {
   "cell_type": "markdown",
   "id": "36393c77",
   "metadata": {},
   "source": [
    "#### Uma análise do Dataset mostrou que além de registrar as operações de venda e cancelamento dos produtos, esse dataset também registra operações manuais de ajustes, descontos ofertados, taxas, comissões e outras operações."
   ]
  },
  {
   "cell_type": "code",
   "execution_count": 5,
   "id": "086d2d21",
   "metadata": {},
   "outputs": [
    {
     "name": "stdout",
     "output_type": "stream",
     "text": [
      "['POST' 'D' 'C2' 'DOT' 'M' 'BANK CHARGES' 'S' 'AMAZONFEE' 'DCGS0076'\n",
      " 'DCGS0003' 'gift_0001_40' 'DCGS0070' 'm' 'gift_0001_50' 'gift_0001_30'\n",
      " 'gift_0001_20' 'DCGS0055' 'DCGS0072' 'DCGS0074' 'DCGS0069' 'DCGS0057'\n",
      " 'DCGSSBOY' 'DCGSSGIRL' 'gift_0001_10' 'PADS' 'DCGS0004' 'DCGS0073'\n",
      " 'DCGS0071' 'DCGS0068' 'DCGS0067' 'DCGS0066P' 'B' 'CRUK']\n"
     ]
    }
   ],
   "source": [
    "# Filtra as operações que não se referem a produtos\n",
    "def not_number(value):\n",
    "    return not value[0].isdigit()\n",
    "\n",
    "# Filtra todos os registros que não vendas/cancelamento de produtos\n",
    "not_product_lines = sales[sales['StockCode'].apply(not_number)]\n",
    "\n",
    "# Obtém os valores únicos das linhas\n",
    "not_product = not_product_lines['StockCode'].unique()\n",
    "\n",
    "# Imprime os valores únicos que não começam com números\n",
    "print(not_product)"
   ]
  },
  {
   "cell_type": "markdown",
   "id": "71c1de9e",
   "metadata": {},
   "source": [
    "#### Portanto, como a análise está focada apenas na VENDA e CANCELAMENTO dos PRODUTOS, os registros citados devem ser excluídos no pré-processamento.\n",
    "\n",
    "#### Essas operações são identificadas pela coluna *[StockCode]*, em que seus valores iniciam-se por uma letra. As linhas que contem os dados presentes em \"not_product\", conforme mostrado acima, devem ser excluídas, por não se tratarem de vendas/cancelamentos de produtos."
   ]
  },
  {
   "cell_type": "code",
   "execution_count": 6,
   "id": "eb1acac3",
   "metadata": {},
   "outputs": [
    {
     "data": {
      "text/plain": [
       "InvoiceNo       object\n",
       "StockCode       object\n",
       "Description     object\n",
       "Quantity         int64\n",
       "InvoiceDate     object\n",
       "UnitPrice      float64\n",
       "CustomerID     float64\n",
       "Country         object\n",
       "dtype: object"
      ]
     },
     "execution_count": 6,
     "metadata": {},
     "output_type": "execute_result"
    }
   ],
   "source": [
    "# Checa os tipos dos dados\n",
    "sales.dtypes"
   ]
  },
  {
   "cell_type": "markdown",
   "id": "edb08b48",
   "metadata": {},
   "source": [
    "#### Pela análise dos tipos dos dados desse dataset, devem ser aplicadas transformações nos tipos de dados durante o pré-processamento."
   ]
  },
  {
   "cell_type": "code",
   "execution_count": 7,
   "id": "2848def2",
   "metadata": {
    "scrolled": true
   },
   "outputs": [
    {
     "data": {
      "text/html": [
       "<div>\n",
       "<style scoped>\n",
       "    .dataframe tbody tr th:only-of-type {\n",
       "        vertical-align: middle;\n",
       "    }\n",
       "\n",
       "    .dataframe tbody tr th {\n",
       "        vertical-align: top;\n",
       "    }\n",
       "\n",
       "    .dataframe thead th {\n",
       "        text-align: right;\n",
       "    }\n",
       "</style>\n",
       "<table border=\"1\" class=\"dataframe\">\n",
       "  <thead>\n",
       "    <tr style=\"text-align: right;\">\n",
       "      <th></th>\n",
       "      <th>count</th>\n",
       "      <th>mean</th>\n",
       "      <th>std</th>\n",
       "      <th>min</th>\n",
       "      <th>25%</th>\n",
       "      <th>50%</th>\n",
       "      <th>75%</th>\n",
       "      <th>max</th>\n",
       "    </tr>\n",
       "  </thead>\n",
       "  <tbody>\n",
       "    <tr>\n",
       "      <th>Quantity</th>\n",
       "      <td>541909.00</td>\n",
       "      <td>9.55</td>\n",
       "      <td>218.08</td>\n",
       "      <td>-80995.00</td>\n",
       "      <td>1.00</td>\n",
       "      <td>3.00</td>\n",
       "      <td>10.00</td>\n",
       "      <td>80995.00</td>\n",
       "    </tr>\n",
       "    <tr>\n",
       "      <th>UnitPrice</th>\n",
       "      <td>541909.00</td>\n",
       "      <td>4.61</td>\n",
       "      <td>96.76</td>\n",
       "      <td>-11062.06</td>\n",
       "      <td>1.25</td>\n",
       "      <td>2.08</td>\n",
       "      <td>4.13</td>\n",
       "      <td>38970.00</td>\n",
       "    </tr>\n",
       "  </tbody>\n",
       "</table>\n",
       "</div>"
      ],
      "text/plain": [
       "              count  mean    std       min  25%  50%   75%      max\n",
       "Quantity  541909.00  9.55 218.08 -80995.00 1.00 3.00 10.00 80995.00\n",
       "UnitPrice 541909.00  4.61  96.76 -11062.06 1.25 2.08  4.13 38970.00"
      ]
     },
     "execution_count": 7,
     "metadata": {},
     "output_type": "execute_result"
    }
   ],
   "source": [
    "# Resumo dos dados\n",
    "sales[['Quantity', 'UnitPrice']].describe().T"
   ]
  },
  {
   "cell_type": "markdown",
   "id": "ee265600",
   "metadata": {},
   "source": [
    "#### A análise das estatísticas descritivas dos dados mostra o valor mínimo de *[UnitPrice]* sendo negativo. Portanto, devem ser excluídos no pré-processamento os registros com valor unitário menor ou igual a zero, pois não configuram-se como vendas ou devoluções. \n",
    "#### Provavelmente são decorrentes de erros de registro"
   ]
  },
  {
   "cell_type": "code",
   "execution_count": 8,
   "id": "f3fe3c3c",
   "metadata": {},
   "outputs": [
    {
     "data": {
      "text/html": [
       "<div>\n",
       "<style scoped>\n",
       "    .dataframe tbody tr th:only-of-type {\n",
       "        vertical-align: middle;\n",
       "    }\n",
       "\n",
       "    .dataframe tbody tr th {\n",
       "        vertical-align: top;\n",
       "    }\n",
       "\n",
       "    .dataframe thead th {\n",
       "        text-align: right;\n",
       "    }\n",
       "</style>\n",
       "<table border=\"1\" class=\"dataframe\">\n",
       "  <thead>\n",
       "    <tr style=\"text-align: right;\">\n",
       "      <th></th>\n",
       "      <th>InvoiceNo</th>\n",
       "      <th>StockCode</th>\n",
       "      <th>Description</th>\n",
       "      <th>Quantity</th>\n",
       "      <th>InvoiceDate</th>\n",
       "      <th>UnitPrice</th>\n",
       "      <th>CustomerID</th>\n",
       "      <th>Country</th>\n",
       "    </tr>\n",
       "  </thead>\n",
       "  <tbody>\n",
       "    <tr>\n",
       "      <th>483390</th>\n",
       "      <td>577503</td>\n",
       "      <td>72800B</td>\n",
       "      <td>4 PURPLE FLOCK DINNER CANDLES</td>\n",
       "      <td>1</td>\n",
       "      <td>20/11/2011 12:34</td>\n",
       "      <td>2.55</td>\n",
       "      <td>18110.00</td>\n",
       "      <td>United Kingdom</td>\n",
       "    </tr>\n",
       "    <tr>\n",
       "      <th>483414</th>\n",
       "      <td>577503</td>\n",
       "      <td>72800B</td>\n",
       "      <td>4 PURPLE FLOCK DINNER CANDLES</td>\n",
       "      <td>1</td>\n",
       "      <td>20/11/2011 12:34</td>\n",
       "      <td>2.55</td>\n",
       "      <td>18110.00</td>\n",
       "      <td>United Kingdom</td>\n",
       "    </tr>\n",
       "    <tr>\n",
       "      <th>160498</th>\n",
       "      <td>550459</td>\n",
       "      <td>72800B</td>\n",
       "      <td>4 PURPLE FLOCK DINNER CANDLES</td>\n",
       "      <td>1</td>\n",
       "      <td>18/04/2011 13:17</td>\n",
       "      <td>2.55</td>\n",
       "      <td>18116.00</td>\n",
       "      <td>United Kingdom</td>\n",
       "    </tr>\n",
       "    <tr>\n",
       "      <th>160509</th>\n",
       "      <td>550459</td>\n",
       "      <td>72800B</td>\n",
       "      <td>4 PURPLE FLOCK DINNER CANDLES</td>\n",
       "      <td>1</td>\n",
       "      <td>18/04/2011 13:17</td>\n",
       "      <td>2.55</td>\n",
       "      <td>18116.00</td>\n",
       "      <td>United Kingdom</td>\n",
       "    </tr>\n",
       "    <tr>\n",
       "      <th>460074</th>\n",
       "      <td>575895</td>\n",
       "      <td>23345</td>\n",
       "      <td>DOLLY GIRL BEAKER</td>\n",
       "      <td>1</td>\n",
       "      <td>11/11/2011 14:50</td>\n",
       "      <td>1.25</td>\n",
       "      <td>17052.00</td>\n",
       "      <td>United Kingdom</td>\n",
       "    </tr>\n",
       "  </tbody>\n",
       "</table>\n",
       "</div>"
      ],
      "text/plain": [
       "       InvoiceNo StockCode                     Description  Quantity  \\\n",
       "483390    577503    72800B   4 PURPLE FLOCK DINNER CANDLES         1   \n",
       "483414    577503    72800B   4 PURPLE FLOCK DINNER CANDLES         1   \n",
       "160498    550459    72800B   4 PURPLE FLOCK DINNER CANDLES         1   \n",
       "160509    550459    72800B   4 PURPLE FLOCK DINNER CANDLES         1   \n",
       "460074    575895     23345               DOLLY GIRL BEAKER         1   \n",
       "\n",
       "             InvoiceDate  UnitPrice  CustomerID         Country  \n",
       "483390  20/11/2011 12:34       2.55    18110.00  United Kingdom  \n",
       "483414  20/11/2011 12:34       2.55    18110.00  United Kingdom  \n",
       "160498  18/04/2011 13:17       2.55    18116.00  United Kingdom  \n",
       "160509  18/04/2011 13:17       2.55    18116.00  United Kingdom  \n",
       "460074  11/11/2011 14:50       1.25    17052.00  United Kingdom  "
      ]
     },
     "execution_count": 8,
     "metadata": {},
     "output_type": "execute_result"
    }
   ],
   "source": [
    "# Verifica a presença de registros duplicados no dataset\n",
    "cols_list = sales.columns\n",
    "duplicates = sales.duplicated(subset=cols_list, keep=False)\n",
    "sales[duplicates].sort_values('Description').head()"
   ]
  },
  {
   "cell_type": "markdown",
   "id": "12188663",
   "metadata": {},
   "source": [
    "#### Como foi notada a presença de duplicatas no dataset, será necessário removê-las durante o pré-processamento"
   ]
  },
  {
   "cell_type": "code",
   "execution_count": 9,
   "id": "8a22e704",
   "metadata": {},
   "outputs": [
    {
     "data": {
      "text/plain": [
       "InvoiceNo           0\n",
       "StockCode           0\n",
       "Description      1454\n",
       "Quantity            0\n",
       "InvoiceDate         0\n",
       "UnitPrice           0\n",
       "CustomerID     135080\n",
       "Country             0\n",
       "dtype: int64"
      ]
     },
     "execution_count": 9,
     "metadata": {},
     "output_type": "execute_result"
    }
   ],
   "source": [
    "# Checa valores ausentes\n",
    "sales.isna().sum()"
   ]
  },
  {
   "cell_type": "markdown",
   "id": "1c53038e",
   "metadata": {},
   "source": [
    "#### Há presença de valores ausentes na coluna *[CustomerID].* e na coluna *[Description]*\n",
    "\n",
    "#### Esses valores nulos devem ser tratados de acordo com a análise realizada, principalmente para a coluna *[CustomerID]*, que possui uma grande quantidade de valores nulos.\n",
    "\n",
    "#### Como essa quantidade é significativa, as linhas com valores nulos de *[CustomerID]* só serão removidas durante a análise dos clientes, mas serão mantidas nas análises de produtos, países e sazonalidade, já que a remoção iria afetar profundamente essas análises."
   ]
  },
  {
   "cell_type": "code",
   "execution_count": 10,
   "id": "ff81bde5",
   "metadata": {},
   "outputs": [
    {
     "name": "stdout",
     "output_type": "stream",
     "text": [
      "Descriptions com mais de um StockCode associado:\n",
      "Description\n",
      "check                                  146\n",
      "?                                       47\n",
      "damaged                                 43\n",
      "damages                                 43\n",
      "found                                   25\n",
      "                                      ... \n",
      "GARDENIA 3 WICK MORRIS BOXED CANDLE      2\n",
      "GREEN 3 PIECE POLKADOT CUTLERY SET       2\n",
      "GREEN BITTY LIGHT CHAIN                  2\n",
      "HANGING HEART ZINC T-LIGHT HOLDER        2\n",
      "wet/rusty                                2\n",
      "Name: StockCode, Length: 172, dtype: int64\n"
     ]
    }
   ],
   "source": [
    "# Verifica a existência de nomes de produtos iguais para diferentes StockCodes\n",
    "duplicates_descriptions = sales.groupby('Description')['StockCode'].nunique()\n",
    "\n",
    "# Filtra os casos onde há mais de um StockCode para a mesma Description\n",
    "duplicates_descriptions = duplicates_descriptions[duplicates_descriptions > 1]\n",
    "\n",
    "# Imprime as Description com mais de um StockCode associado\n",
    "print(\"Descriptions com mais de um StockCode associado:\")\n",
    "print(duplicates_descriptions.sort_values(ascending=False))"
   ]
  },
  {
   "cell_type": "code",
   "execution_count": 11,
   "id": "1f98190a",
   "metadata": {},
   "outputs": [
    {
     "name": "stdout",
     "output_type": "stream",
     "text": [
      "StockCodes com mais de um Description associado:\n",
      "StockCode\n",
      "20713           8\n",
      "23084           7\n",
      "85175           6\n",
      "21830           6\n",
      "85172           5\n",
      "               ..\n",
      "22777           2\n",
      "22784           2\n",
      "22785           2\n",
      "22792           2\n",
      "gift_0001_20    2\n",
      "Name: Description, Length: 650, dtype: int64\n"
     ]
    }
   ],
   "source": [
    "# Verifica a existência de StockCodes iguais para diferentes Description\n",
    "duplicates_stock_codes = sales.groupby('StockCode')['Description'].nunique()\n",
    "\n",
    "# Filtra os casos onde há mais de um Description para um mesmo StockCode\n",
    "duplicates_stock_codes = duplicates_stock_codes[duplicates_stock_codes > 1]\n",
    "\n",
    "# Imprime os StockCodes com mais de um Description associado\n",
    "print(\"StockCodes com mais de um Description associado:\")\n",
    "print(duplicates_stock_codes.sort_values(ascending=False))"
   ]
  },
  {
   "cell_type": "markdown",
   "id": "6ac25c37",
   "metadata": {},
   "source": [
    "#### Há dois casos observados:\n",
    "#### 1. Um mesmo código possui descrições diferentes\n",
    "#### 2. Códigos diferentes possuem descrições iguais.\n",
    "\n",
    "#### Para a análise feita neste dataset, será considerado que esses casos são decorrentes de cadastros errados, duplicados, registros incorretos ou alterações propositais nas descrições. "
   ]
  },
  {
   "cell_type": "code",
   "execution_count": 12,
   "id": "e18a6812",
   "metadata": {},
   "outputs": [
    {
     "data": {
      "text/plain": [
       "InvoiceNo      25900\n",
       "StockCode       4070\n",
       "Description     4223\n",
       "Quantity         722\n",
       "InvoiceDate    23260\n",
       "UnitPrice       1630\n",
       "CustomerID      4372\n",
       "Country           38\n",
       "dtype: int64"
      ]
     },
     "execution_count": 12,
     "metadata": {},
     "output_type": "execute_result"
    }
   ],
   "source": [
    "# Quantidade de valores únicos da coluna Description\n",
    "sales.nunique()"
   ]
  },
  {
   "cell_type": "markdown",
   "id": "d5bf55af",
   "metadata": {},
   "source": [
    "#### Para simplificar a análise e melhorar a identificação dos produtos, cada registro único de *[Description]* será considerado como um produto diferente, já que a quantidade valores únicos de StockCode e Description são bem próximos."
   ]
  },
  {
   "cell_type": "code",
   "execution_count": null,
   "id": "93dec735",
   "metadata": {},
   "outputs": [],
   "source": []
  }
 ],
 "metadata": {
  "kernelspec": {
   "display_name": "Python 3 (ipykernel)",
   "language": "python",
   "name": "python3"
  },
  "language_info": {
   "codemirror_mode": {
    "name": "ipython",
    "version": 3
   },
   "file_extension": ".py",
   "mimetype": "text/x-python",
   "name": "python",
   "nbconvert_exporter": "python",
   "pygments_lexer": "ipython3",
   "version": "3.11.5"
  }
 },
 "nbformat": 4,
 "nbformat_minor": 5
}
