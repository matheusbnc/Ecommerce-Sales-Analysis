{
 "cells": [
  {
   "cell_type": "code",
   "execution_count": null,
   "id": "427e7ae2",
   "metadata": {},
   "outputs": [],
   "source": [
    "# Importando as bibliotecas necessárias\n",
    "import pandas as pd\n",
    "import numpy as np"
   ]
  },
  {
   "cell_type": "code",
   "execution_count": null,
   "id": "ff7cffd1",
   "metadata": {},
   "outputs": [],
   "source": [
    "# Configurando o estilo de exibição de fl\n",
    "pd.set_option('display.float_format', '{:.2f}'.format)"
   ]
  },
  {
   "cell_type": "code",
   "execution_count": null,
   "id": "52fbc9b8",
   "metadata": {
    "scrolled": true
   },
   "outputs": [],
   "source": [
    "# Carregando e lendo o dataset\n",
    "sales = pd.read_csv('C:/Users/mathe/Projetos Dados/EcommerceSalesAnalysis/App/Data/Online Retail.csv', delimiter=';', encoding='latin1', decimal=',')\n",
    "sales.head()"
   ]
  },
  {
   "cell_type": "markdown",
   "id": "14b68d01",
   "metadata": {},
   "source": [
    "#### Deve ser adicionada uma coluna de Preço Final de venda/devolução para cada transação"
   ]
  },
  {
   "cell_type": "code",
   "execution_count": null,
   "id": "7ce6bfc7",
   "metadata": {},
   "outputs": [],
   "source": [
    "sales.shape"
   ]
  },
  {
   "cell_type": "markdown",
   "id": "36393c77",
   "metadata": {},
   "source": [
    "#### Uma análise do Dataset mostrou que além de registrar as operações de venda e cancelamento dos produtos, esse dataset também registra operações manuais de ajustes, descontos ofertados, taxas, comissões e outras operações."
   ]
  },
  {
   "cell_type": "code",
   "execution_count": null,
   "id": "086d2d21",
   "metadata": {},
   "outputs": [],
   "source": [
    "# Filtrando as operações que não se referem a produtos\n",
    "def not_number(value):\n",
    "    return not value[0].isdigit()\n",
    "\n",
    "# Filtra todos os registros que não vendas/cancelamento de produtos\n",
    "not_product_lines = sales[sales['StockCode'].apply(not_number)]\n",
    "\n",
    "# Obter os valores únicos das linhas\n",
    "not_product = not_product_lines['StockCode'].unique()\n",
    "\n",
    "# Imprimir os valores únicos que não começam com números\n",
    "print(not_product)"
   ]
  },
  {
   "cell_type": "markdown",
   "id": "a38987ed",
   "metadata": {},
   "source": [
    "#### Portanto, como a análise está focada apenas na VENDA e CANCELAMENTO dos PRODUTOS, os registros citados devem ser excluídos no pré-processamento.\n",
    "\n",
    "#### Essas operações são identificadas pela coluna *[StockCode]*, em que seus valores iniciam-se por uma letra. As linhas que contem os dados presentes em \"not_product\", conforme mostrado acima, devem ser excluídas, por não se tratarem de vendas/cancelamentos de produtos."
   ]
  },
  {
   "cell_type": "code",
   "execution_count": null,
   "id": "eb1acac3",
   "metadata": {},
   "outputs": [],
   "source": [
    "# Conhecendo os tipos dos dados\n",
    "sales.dtypes"
   ]
  },
  {
   "cell_type": "markdown",
   "id": "8ade0a85",
   "metadata": {},
   "source": [
    "#### Pela análise dos tipos dos dados desse dataset, devem ser aplicadas transformações nos tipos de dados durante o pré-processamento."
   ]
  },
  {
   "cell_type": "code",
   "execution_count": null,
   "id": "2848def2",
   "metadata": {
    "scrolled": true
   },
   "outputs": [],
   "source": [
    "# Resumo dos dados\n",
    "sales[['Quantity', 'UnitPrice']].describe().T"
   ]
  },
  {
   "cell_type": "markdown",
   "id": "267485ea",
   "metadata": {},
   "source": [
    "#### A análise das estatísticas descritivas dos dados mostra o valor mínimo de *[UnitPrice]* sendo negativo. Portanto, devem ser excluídos no pré-processamento os registros com valor unitário menor ou igual a zero, pois não configuram-se como vendas ou devoluções. \n",
    "#### Provavelmente são decorrentes de erros de registro"
   ]
  },
  {
   "cell_type": "code",
   "execution_count": null,
   "id": "f3fe3c3c",
   "metadata": {},
   "outputs": [],
   "source": [
    "# Verifica a presença de registros duplicados no dataset\n",
    "cols_list = sales.columns\n",
    "duplicates = sales.duplicated(subset=cols_list, keep=False)\n",
    "sales[duplicates].sort_values('Description').head()"
   ]
  },
  {
   "cell_type": "markdown",
   "id": "f5380e50",
   "metadata": {},
   "source": [
    "#### Como foi notada a presença de duplicatas no dataset, será necessário removê-las durante o pré-processamento"
   ]
  },
  {
   "cell_type": "code",
   "execution_count": null,
   "id": "8a22e704",
   "metadata": {},
   "outputs": [],
   "source": [
    "# Checando valores ausentes\n",
    "sales.isna().sum()"
   ]
  },
  {
   "cell_type": "markdown",
   "id": "1c53038e",
   "metadata": {},
   "source": [
    "#### Há presença de valores ausentes na coluna *[CustomerID].* e na coluna *[Description]*\n",
    "\n",
    "#### Esses valores nulos devem ser tratados de acordo com a análise realizada, principalmente para a coluna *[CustomerID]*, que possui uma grande quantidade de valores nulos.\n",
    "\n",
    "#### Como essa quantidade é significativa, as linhas com valores nulos de *[CustomerID]* só serão removidas durante a análise dos clientes, mas serão mantidas nas análises de produtos, países e sazonalidade, já que a remoção iria afetar profundamente essas análises."
   ]
  },
  {
   "cell_type": "code",
   "execution_count": null,
   "id": "ff81bde5",
   "metadata": {},
   "outputs": [],
   "source": [
    "# Verificando a existência de nomes de produtos iguais para diferentes StockCodes\n",
    "duplicates_descriptions = sales.groupby('Description')['StockCode'].nunique()\n",
    "\n",
    "# Filtra os casos onde há mais de um StockCode para a mesma Description\n",
    "duplicates_descriptions = duplicates_descriptions[duplicates_descriptions > 1]\n",
    "\n",
    "# Imprime as Description com mais de um StockCode associado\n",
    "print(\"Descriptions com mais de um StockCode associado:\")\n",
    "print(duplicates_descriptions.sort_values(ascending=False))"
   ]
  },
  {
   "cell_type": "code",
   "execution_count": null,
   "id": "1f98190a",
   "metadata": {},
   "outputs": [],
   "source": [
    "# Verificando a existência de StockCodes iguais para diferentes Description\n",
    "duplicates_stock_codes = sales.groupby('StockCode')['Description'].nunique()\n",
    "\n",
    "# Filtra os casos onde há mais de um Description para um mesmo StockCode\n",
    "duplicates_stock_codes = duplicates_stock_codes[duplicates_stock_codes > 1]\n",
    "\n",
    "# Imprime os StockCodes com mais de um Description associado\n",
    "print(\"StockCodes com mais de um Description associado:\")\n",
    "print(duplicates_stock_codes.sort_values(ascending=False))"
   ]
  },
  {
   "cell_type": "markdown",
   "id": "6ac25c37",
   "metadata": {},
   "source": [
    "#### Há dois casos observados:\n",
    "#### 1. Um mesmo código possui descrições diferentes\n",
    "#### 2. Códigos diferentes possuem descrições iguais.\n",
    "\n",
    "#### Para a análise feita neste dataset, será considerado que esses casos são decorrentes de cadastros errados, duplicados, registros incorretos ou alterações propositais nas descrições. "
   ]
  },
  {
   "cell_type": "code",
   "execution_count": null,
   "id": "e18a6812",
   "metadata": {},
   "outputs": [],
   "source": [
    "# Quantidade de valores únicos da coluna Description\n",
    "sales.nunique()"
   ]
  },
  {
   "cell_type": "markdown",
   "id": "d5bf55af",
   "metadata": {},
   "source": [
    "#### Para simplificar a análise e melhorar a identificação dos produtos, cada registro único de *[Description]* será considerado como um produto diferente, já que a quantidade valores únicos de StockCode e Description são bem próximos."
   ]
  },
  {
   "cell_type": "code",
   "execution_count": null,
   "id": "93dec735",
   "metadata": {},
   "outputs": [],
   "source": []
  },
  {
   "cell_type": "code",
   "execution_count": null,
   "id": "d6a618db",
   "metadata": {},
   "outputs": [],
   "source": []
  }
 ],
 "metadata": {
  "kernelspec": {
   "display_name": "Python 3 (ipykernel)",
   "language": "python",
   "name": "python3"
  },
  "language_info": {
   "codemirror_mode": {
    "name": "ipython",
    "version": 3
   },
   "file_extension": ".py",
   "mimetype": "text/x-python",
   "name": "python",
   "nbconvert_exporter": "python",
   "pygments_lexer": "ipython3",
   "version": "3.11.5"
  }
 },
 "nbformat": 4,
 "nbformat_minor": 5
}
